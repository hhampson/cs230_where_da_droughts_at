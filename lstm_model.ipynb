{
 "cells": [
  {
   "cell_type": "code",
   "execution_count": 1,
   "id": "front-alias",
   "metadata": {},
   "outputs": [],
   "source": [
    "import torch\n",
    "import torch.nn as nn\n",
    "from tqdm.notebook import tqdm, trange\n",
    "import seaborn as sns\n",
    "import numpy as np\n",
    "import pandas as pd\n",
    "import matplotlib.pyplot as plt\n",
    "%matplotlib inline"
   ]
  },
  {
   "cell_type": "code",
   "execution_count": 2,
   "id": "brave-providence",
   "metadata": {},
   "outputs": [],
   "source": [
    "from torch.utils.data import Dataset, DataLoader"
   ]
  },
  {
   "cell_type": "code",
   "execution_count": 3,
   "id": "sufficient-enclosure",
   "metadata": {},
   "outputs": [],
   "source": [
    "## create dataset\n",
    "class DroughtDataset(Dataset):\n",
    "    \"\"\" Drought dataset.\"\"\"\n",
    "\n",
    "    def __init__(self, np_array_x, np_array_y):\n",
    "        \"\"\"\n",
    "        Args:\n",
    "            np_array_x (string): Path to the npy file with annotations.\n",
    "            np_array_y (string): Path to the npy file with annotations.\n",
    "        \"\"\"\n",
    "        self.X = np.load(np_array_x)\n",
    "        self.Y = np.load(np_array_y)\n",
    "\n",
    "    def __len__(self):\n",
    "        return len(self.X)\n",
    "\n",
    "    def __getitem__(self, idx):\n",
    "        return self.X[idx], self.Y[idx][0]"
   ]
  },
  {
   "cell_type": "code",
   "execution_count": 26,
   "id": "floating-technical",
   "metadata": {
    "scrolled": true
   },
   "outputs": [],
   "source": [
    "drought_dataset = DroughtDataset('X_v2.npy', 'Y_v2.npy')\n",
    "\n",
    "for i in range(len(drought_dataset)):\n",
    "    sample = drought_dataset[i]\n",
    "    # sample[0].shape = (6,4)"
   ]
  },
  {
   "cell_type": "code",
   "execution_count": 5,
   "id": "fiscal-simple",
   "metadata": {},
   "outputs": [],
   "source": [
    "## call dataloader\n",
    "dataloader = DataLoader(drought_dataset, batch_size=2, shuffle=True, num_workers=0)\n",
    "# batch,seq,input_var"
   ]
  },
  {
   "cell_type": "code",
   "execution_count": 15,
   "id": "commercial-progressive",
   "metadata": {},
   "outputs": [],
   "source": [
    "## create LSTM model\n",
    "class LSTM(nn.Module):\n",
    "    def __init__(self, input_size=4, hidden_layer_size=32, output_size=1):\n",
    "        super().__init__()\n",
    "        self.hidden_layer_size = hidden_layer_size\n",
    "\n",
    "        self.lstm = nn.LSTM(input_size, hidden_layer_size,batch_first=True)\n",
    "\n",
    "        self.linear = nn.Linear(hidden_layer_size, output_size)\n",
    "\n",
    "        self.hidden_cell = (torch.zeros(1,1,self.hidden_layer_size),\n",
    "                            torch.zeros(1,1,self.hidden_layer_size))\n",
    "\n",
    "    def forward(self, input_seq):\n",
    "        lstm_out, hidden_cell = self.lstm(input_seq)#, self.hidden_cell.cuda())\n",
    "        predictions = self.linear(lstm_out[:, -1])\n",
    "        return predictions.squeeze(1)"
   ]
  },
  {
   "cell_type": "code",
   "execution_count": 29,
   "id": "banned-wildlife",
   "metadata": {},
   "outputs": [],
   "source": [
    "## cross entropy loss and optimizer\n",
    "model = LSTM()\n",
    "model = model\n",
    "loss_function = nn.MSELoss()\n",
    "optimizer = torch.optim.Adam(model.parameters(), lr=0.001)"
   ]
  },
  {
   "cell_type": "code",
   "execution_count": 30,
   "id": "acknowledged-south",
   "metadata": {
    "scrolled": true
   },
   "outputs": [
    {
     "data": {
      "application/vnd.jupyter.widget-view+json": {
       "model_id": "2aa0bce47a4447c8b0b1d63a7c3bfb45",
       "version_major": 2,
       "version_minor": 0
      },
      "text/plain": [
       "  0%|          | 0/150 [00:00<?, ?it/s]"
      ]
     },
     "metadata": {},
     "output_type": "display_data"
    },
    {
     "name": "stdout",
     "output_type": "stream",
     "text": [
      "epoch:   1 loss: 0.51251355\n",
      "epoch:   6 loss: 0.38421459\n",
      "epoch:  11 loss: 0.33365531\n",
      "epoch:  16 loss: 0.27868673\n",
      "epoch:  21 loss: 0.23237213\n",
      "epoch:  26 loss: 0.22547626\n",
      "epoch:  31 loss: 0.21850686\n",
      "epoch:  36 loss: 0.18051512\n",
      "epoch:  41 loss: 0.17885519\n",
      "epoch:  46 loss: 0.14748415\n",
      "epoch:  51 loss: 0.14732041\n",
      "epoch:  56 loss: 0.14395057\n",
      "epoch:  61 loss: 0.15388559\n",
      "epoch:  66 loss: 0.14008746\n",
      "epoch:  71 loss: 0.14489220\n",
      "epoch:  76 loss: 0.11259133\n",
      "epoch:  81 loss: 0.13803397\n",
      "epoch:  86 loss: 0.13019930\n",
      "epoch:  91 loss: 0.10053276\n",
      "epoch:  96 loss: 0.09677521\n",
      "epoch: 101 loss: 0.11732165\n",
      "epoch: 106 loss: 0.15738848\n",
      "epoch: 111 loss: 0.12271446\n",
      "epoch: 116 loss: 0.11410480\n",
      "epoch: 121 loss: 0.11098493\n",
      "epoch: 126 loss: 0.13657261\n",
      "epoch: 131 loss: 0.09615514\n",
      "epoch: 136 loss: 0.09468974\n",
      "epoch: 141 loss: 0.10673631\n",
      "epoch: 146 loss: 0.07257059\n",
      "epoch: 149 loss: 0.0078275073\n"
     ]
    }
   ],
   "source": [
    "## training the model\n",
    "epochs = 150\n",
    "\n",
    "for i in trange(epochs):\n",
    "    sum_loss = 0\n",
    "    for batch in dataloader:\n",
    "        seq, labels = batch\n",
    "        seq, labels = seq.float(), labels.float()\n",
    "        optimizer.zero_grad()\n",
    "        #model.hidden_cell = (torch.zeros(1, 1, model.hidden_layer_size),\n",
    "        #                torch.zeros(1, 1, model.hidden_layer_size))\n",
    "        y_pred = model(seq)\n",
    "        single_loss = loss_function(y_pred, labels)\n",
    "        \n",
    "        single_loss.backward()\n",
    "        optimizer.step()\n",
    "        sum_loss += single_loss\n",
    "        \n",
    "    if i%5 == 1:\n",
    "        print(f'epoch: {i:3} loss: {sum_loss.cpu().item()/len(dataloader):10.8f}')\n",
    "\n",
    "print(f'epoch: {i:3} loss: {single_loss.cpu().item():10.10f}')"
   ]
  },
  {
   "cell_type": "code",
   "execution_count": 10,
   "id": "shared-knowing",
   "metadata": {},
   "outputs": [],
   "source": [
    "!export CUBLAS_WORKSPACE_CONFIG=:16:8"
   ]
  },
  {
   "cell_type": "code",
   "execution_count": 1,
   "id": "young-tragedy",
   "metadata": {},
   "outputs": [
    {
     "ename": "NameError",
     "evalue": "name 'seq' is not defined",
     "output_type": "error",
     "traceback": [
      "\u001b[0;31m---------------------------------------------------------------------------\u001b[0m",
      "\u001b[0;31mNameError\u001b[0m                                 Traceback (most recent call last)",
      "\u001b[0;32m<ipython-input-1-e916cee2b9d0>\u001b[0m in \u001b[0;36m<module>\u001b[0;34m\u001b[0m\n\u001b[0;32m----> 1\u001b[0;31m \u001b[0mseq\u001b[0m\u001b[0;34m\u001b[0m\u001b[0;34m\u001b[0m\u001b[0m\n\u001b[0m",
      "\u001b[0;31mNameError\u001b[0m: name 'seq' is not defined"
     ]
    }
   ],
   "source": [
    "seq"
   ]
  },
  {
   "cell_type": "code",
   "execution_count": 20,
   "id": "alike-display",
   "metadata": {},
   "outputs": [
    {
     "data": {
      "text/plain": [
       "tensor([-0.5425], device='cuda:0', grad_fn=<SqueezeBackward1>)"
      ]
     },
     "execution_count": 20,
     "metadata": {},
     "output_type": "execute_result"
    }
   ],
   "source": [
    "model(torch.tensor(sample[0]).float().unsqueeze(0).cuda())"
   ]
  },
  {
   "cell_type": "code",
   "execution_count": null,
   "id": "elder-stable",
   "metadata": {},
   "outputs": [],
   "source": []
  }
 ],
 "metadata": {
  "kernelspec": {
   "display_name": "Python 3",
   "language": "python",
   "name": "python3"
  },
  "language_info": {
   "codemirror_mode": {
    "name": "ipython",
    "version": 3
   },
   "file_extension": ".py",
   "mimetype": "text/x-python",
   "name": "python",
   "nbconvert_exporter": "python",
   "pygments_lexer": "ipython3",
   "version": "3.6.9"
  }
 },
 "nbformat": 4,
 "nbformat_minor": 5
}
