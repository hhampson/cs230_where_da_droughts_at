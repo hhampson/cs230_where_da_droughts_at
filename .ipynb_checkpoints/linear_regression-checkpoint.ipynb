{
 "cells": [
  {
   "cell_type": "code",
   "execution_count": 53,
   "id": "collaborative-evans",
   "metadata": {},
   "outputs": [],
   "source": [
    "## import packages\n",
    "import numpy as np\n",
    "from sklearn import preprocessing\n",
    "import matplotlib.pyplot as plt\n",
    "from sklearn import linear_model\n",
    "from sklearn.model_selection import train_test_split\n",
    "from sklearn.metrics import mean_squared_error, r2_score\n",
    "import seaborn as sns\n",
    "%matplotlib inline"
   ]
  },
  {
   "cell_type": "code",
   "execution_count": 54,
   "id": "formal-marks",
   "metadata": {},
   "outputs": [
    {
     "name": "stdout",
     "output_type": "stream",
     "text": [
      "(888, 24)\n"
     ]
    }
   ],
   "source": [
    "## load dataset\n",
    "x = np.load('X_v2.npy')\n",
    "x = x.reshape(x.shape[0],-1)\n",
    "print(x.shape)\n",
    "y = np.load('Y_v2.npy')"
   ]
  },
  {
   "cell_type": "code",
   "execution_count": 55,
   "id": "brave-cement",
   "metadata": {},
   "outputs": [
    {
     "name": "stdout",
     "output_type": "stream",
     "text": [
      "(666, 24)\n",
      "(222, 24)\n",
      "(666, 1)\n",
      "(222, 1)\n"
     ]
    }
   ],
   "source": [
    "## split dataset\n",
    "x_train, x_test, y_train, y_test = train_test_split(x,y,random_state=True, shuffle=True)\n",
    "\n",
    "# check output shape\n",
    "print(x_train.shape)\n",
    "print(x_test.shape)\n",
    "print(y_train.shape)\n",
    "print(y_test.shape)"
   ]
  },
  {
   "cell_type": "code",
   "execution_count": 56,
   "id": "contrary-parts",
   "metadata": {},
   "outputs": [],
   "source": [
    "# create linear regression object\n",
    "regr = linear_model.LinearRegression()\n",
    "\n",
    "# train the model using the training sets\n",
    "regr.fit(x_train, y_train)\n",
    "\n",
    "# make predictions using the testing set\n",
    "y_pred = regr.predict(x_test)"
   ]
  },
  {
   "cell_type": "code",
   "execution_count": 57,
   "id": "infinite-reform",
   "metadata": {},
   "outputs": [
    {
     "name": "stdout",
     "output_type": "stream",
     "text": [
      "Coefficients: \n",
      " [[ 1.04507349e-04  1.48808826e-01 -1.33538034e-01  8.14449741e+00\n",
      "  -3.18499485e-04 -1.49650413e-02  8.88364046e-02 -1.11608411e+01\n",
      "  -1.40358337e-04 -2.78593481e-02 -1.92644592e-02  8.58491771e-01\n",
      "   5.64780514e-04  1.25062956e-01 -1.33407229e-01  9.36593566e+00\n",
      "   3.22898129e-04 -5.90232327e-02  6.69495273e-03 -1.08624409e+01\n",
      "   4.48797961e-04 -1.58684417e-01  1.59026077e-01  5.22648734e+00]]\n",
      "Mean squared error: 0.13\n",
      "Coefficient of determination: 0.79\n"
     ]
    }
   ],
   "source": [
    "# print coefficients\n",
    "print('Coefficients: \\n', regr.coef_)\n",
    "# print mean squared error\n",
    "print('Mean squared error: %.2f'\n",
    "      % mean_squared_error(y_test, y_pred))\n",
    "# print coefficient of determination: 1 is perfect prediction\n",
    "print('Coefficient of determination: %.2f'\n",
    "      % r2_score(y_test, y_pred))"
   ]
  },
  {
   "cell_type": "code",
   "execution_count": 64,
   "id": "bright-envelope",
   "metadata": {},
   "outputs": [
    {
     "data": {
      "image/png": "[encoded data removed]",
      "text/plain": [
       "<Figure size 432x288 with 1 Axes>"
      ]
     },
     "metadata": {},
     "output_type": "display_data"
    }
   ],
   "source": [
    "# plot outputs\n",
    "var = 0\n",
    "plt.scatter(x_test[:,var], y_test,  color='black')\n",
    "plt.scatter(x_test[:,var], y_pred, color='blue', linewidth=3)\n",
    "\n",
    "plt.xticks(())\n",
    "plt.yticks(())\n",
    "\n",
    "plt.show()"
   ]
  },
  {
   "cell_type": "code",
   "execution_count": null,
   "id": "informational-trigger",
   "metadata": {},
   "outputs": [],
   "source": []
  },
  {
   "cell_type": "code",
   "execution_count": 50,
   "id": "brown-hearing",
   "metadata": {},
   "outputs": [],
   "source": []
  },
  {
   "cell_type": "code",
   "execution_count": null,
   "id": "mechanical-shelter",
   "metadata": {},
   "outputs": [],
   "source": []
  }
 ],
 "metadata": {
  "kernelspec": {
   "display_name": "Python 3",
   "language": "python",
   "name": "python3"
  },
  "language_info": {
   "codemirror_mode": {
    "name": "ipython",
    "version": 3
   },
   "file_extension": ".py",
   "mimetype": "text/x-python",
   "name": "python",
   "nbconvert_exporter": "python",
   "pygments_lexer": "ipython3",
   "version": "3.6.9"
  }
 },
 "nbformat": 4,
 "nbformat_minor": 5
}
