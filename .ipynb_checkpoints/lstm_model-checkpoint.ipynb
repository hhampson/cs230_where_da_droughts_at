{
 "cells": [
  {
   "cell_type": "code",
   "execution_count": 1,
   "id": "front-alias",
   "metadata": {},
   "outputs": [],
   "source": [
    "## import packages\n",
    "import torch\n",
    "import torch.nn as nn\n",
    "from torch.utils.data import Dataset, DataLoader\n",
    "from tqdm.notebook import tqdm, trange\n",
    "import seaborn as sns\n",
    "import numpy as np\n",
    "import pandas as pd\n",
    "import matplotlib.pyplot as plt\n",
    "%matplotlib inline"
   ]
  },
  {
   "cell_type": "code",
   "execution_count": 2,
   "id": "brave-providence",
   "metadata": {},
   "outputs": [],
   "source": [
    "## hyperparameters\n",
    "batch_size = 2\n",
    "hidden_layers = 32\n",
    "learning_rate = 0.001\n",
    "epochs = 150\n",
    "\n",
    "# MSE Loss\n",
    "# Adam Optimizer"
   ]
  },
  {
   "cell_type": "code",
   "execution_count": 3,
   "id": "sufficient-enclosure",
   "metadata": {},
   "outputs": [],
   "source": [
    "## create dataset\n",
    "class DroughtDataset(Dataset):\n",
    "    \"\"\" Drought dataset.\"\"\"\n",
    "\n",
    "    def __init__(self, np_array_x, np_array_y):\n",
    "        \"\"\"\n",
    "        Args:\n",
    "            np_array_x (string): Path to the npy file with annotations.\n",
    "            np_array_y (string): Path to the npy file with annotations.\n",
    "        \"\"\"\n",
    "        self.X = np.load(np_array_x)\n",
    "        self.Y = np.load(np_array_y)\n",
    "\n",
    "    def __len__(self):\n",
    "        return len(self.X)\n",
    "\n",
    "    def __getitem__(self, idx):\n",
    "        return self.X[idx], self.Y[idx][0]"
   ]
  },
  {
   "cell_type": "code",
   "execution_count": 4,
   "id": "floating-technical",
   "metadata": {
    "scrolled": true
   },
   "outputs": [],
   "source": [
    "## loading training data\n",
    "drought_dataset = DroughtDataset('x_train_v3.npy', 'y_train_v3.npy')\n",
    "\n",
    "for i in range(len(drought_dataset)):\n",
    "    sample = drought_dataset[i]\n",
    "    # sample[0].shape = (6,4)"
   ]
  },
  {
   "cell_type": "code",
   "execution_count": 5,
   "id": "fiscal-simple",
   "metadata": {},
   "outputs": [],
   "source": [
    "## call dataloader\n",
    "dataloader = DataLoader(drought_dataset, batch_size=batch_size, shuffle=True, num_workers=0)\n",
    "# batch,seq,input_var"
   ]
  },
  {
   "cell_type": "code",
   "execution_count": 6,
   "id": "commercial-progressive",
   "metadata": {},
   "outputs": [],
   "source": [
    "## create LSTM model\n",
    "class LSTM(nn.Module):\n",
    "    def __init__(self, input_size=4, hidden_layer_size=hidden_layers, output_size=1):\n",
    "        super().__init__()\n",
    "        self.hidden_layer_size = hidden_layer_size\n",
    "\n",
    "        self.lstm = nn.LSTM(input_size, hidden_layer_size,batch_first=True)\n",
    "\n",
    "        self.linear = nn.Linear(hidden_layer_size, output_size)\n",
    "\n",
    "        self.hidden_cell = (torch.zeros(1,1,self.hidden_layer_size),\n",
    "                            torch.zeros(1,1,self.hidden_layer_size))\n",
    "\n",
    "    def forward(self, input_seq):\n",
    "        lstm_out, hidden_cell = self.lstm(input_seq)#, self.hidden_cell.cuda())\n",
    "        predictions = self.linear(lstm_out[:, -1])\n",
    "        return predictions.squeeze(1)"
   ]
  },
  {
   "cell_type": "code",
   "execution_count": 7,
   "id": "sealed-steal",
   "metadata": {},
   "outputs": [],
   "source": [
    "## cross entropy loss and optimizer\n",
    "model = LSTM()\n",
    "model = model\n",
    "loss_function = nn.MSELoss()\n",
    "optimizer = torch.optim.Adam(model.parameters(), lr=learning_rate)"
   ]
  },
  {
   "cell_type": "code",
   "execution_count": null,
   "id": "convinced-relation",
   "metadata": {
    "scrolled": true
   },
   "outputs": [
    {
     "data": {
      "application/vnd.jupyter.widget-view+json": {
       "model_id": "3b180462dec244f596b2314533e9da09",
       "version_major": 2,
       "version_minor": 0
      },
      "text/plain": [
       "  0%|          | 0/150 [00:00<?, ?it/s]"
      ]
     },
     "metadata": {},
     "output_type": "display_data"
    },
    {
     "name": "stdout",
     "output_type": "stream",
     "text": [
      "epoch:   1 loss: 0.52788257\n",
      "epoch:   6 loss: 0.21472328\n",
      "epoch:  11 loss: 0.12448995\n",
      "epoch:  16 loss: 0.09712034\n",
      "epoch:  21 loss: 0.08042866\n",
      "epoch:  26 loss: 0.07231837\n",
      "epoch:  31 loss: 0.05777082\n",
      "epoch:  36 loss: 0.05346067\n",
      "epoch:  41 loss: 0.04987986\n",
      "epoch:  46 loss: 0.04174280\n",
      "epoch:  51 loss: 0.04021389\n",
      "epoch:  56 loss: 0.03379965\n"
     ]
    }
   ],
   "source": [
    "## training the model\n",
    "for i in trange(epochs):\n",
    "    sum_loss = 0\n",
    "    for batch in dataloader:\n",
    "        seq, labels = batch\n",
    "        seq, labels = seq.float(), labels.float()\n",
    "        optimizer.zero_grad()\n",
    "        #model.hidden_cell = (torch.zeros(1, 1, model.hidden_layer_size),\n",
    "        #                torch.zeros(1, 1, model.hidden_layer_size))\n",
    "        y_pred = model(seq)\n",
    "        single_loss = loss_function(y_pred, labels)\n",
    "        \n",
    "        single_loss.backward()\n",
    "        optimizer.step()\n",
    "        sum_loss += single_loss\n",
    "        \n",
    "    if i%5 == 1:\n",
    "        print(f'epoch: {i:3} loss: {sum_loss.cpu().item()/len(dataloader):10.8f}')\n",
    "\n",
    "print(f'epoch: {i:3} loss: {single_loss.cpu().item():10.10f}')"
   ]
  },
  {
   "cell_type": "code",
   "execution_count": 38,
   "id": "built-staff",
   "metadata": {},
   "outputs": [],
   "source": [
    "## loading testing data\n",
    "drought_dataset_test = DroughtDataset('x_test_v3.npy', 'y_test_v3.npy')\n",
    "\n",
    "test_size = len(drought_dataset_test)\n",
    "\n",
    "for i in range(len(drought_dataset_test)):\n",
    "    sample = drought_dataset[i]\n",
    "    # sample[0] is the x test\n",
    "    # sample[1] is the y test"
   ]
  },
  {
   "cell_type": "code",
   "execution_count": null,
   "id": "suburban-burning",
   "metadata": {},
   "outputs": [],
   "source": [
    "## making predictions\n",
    "print(drought_dataset_test.X.shape)\n",
    "test_inputs = drought_dataset_test.X[-(test_size-1):].tolist()\n",
    "#print(len(test_inputs))\n",
    "model.eval()\n",
    "#print(drought_dataset_test.X)\n",
    "for i in range(test_size):\n",
    "    inputs = torch.FloatTensor(drought_dataset_test.X)\n",
    "    with torch.no_grad():\n",
    "        model.hidden = (torch.zeros(1, 1, model.hidden_layer_size),\n",
    "                        torch.zeros(1, 1, model.hidden_layer_size))\n",
    "        out_data = model(inputs)\n",
    "\n",
    "predicted_y = np.reshape(out_data.numpy(), (out_data.numpy().shape[0], 1))\n",
    "actual_y = drought_dataset_test.Y"
   ]
  },
  {
   "cell_type": "code",
   "execution_count": null,
   "id": "meaning-scroll",
   "metadata": {},
   "outputs": [],
   "source": [
    "test_error = np.mean(np.square((predicted_y-actual_y)))\n",
    "print(test_error)"
   ]
  },
  {
   "cell_type": "code",
   "execution_count": null,
   "id": "patient-venezuela",
   "metadata": {},
   "outputs": [],
   "source": []
  }
 ],
 "metadata": {
  "kernelspec": {
   "display_name": "Python 3",
   "language": "python",
   "name": "python3"
  },
  "language_info": {
   "codemirror_mode": {
    "name": "ipython",
    "version": 3
   },
   "file_extension": ".py",
   "mimetype": "text/x-python",
   "name": "python",
   "nbconvert_exporter": "python",
   "pygments_lexer": "ipython3",
   "version": "3.6.9"
  }
 },
 "nbformat": 4,
 "nbformat_minor": 5
}
