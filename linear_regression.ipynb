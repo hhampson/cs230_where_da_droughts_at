{
 "cells": [
  {
   "cell_type": "code",
   "execution_count": 25,
   "id": "mechanical-luther",
   "metadata": {},
   "outputs": [],
   "source": [
    "import numpy as np\n",
    "from sklearn import preprocessing\n",
    "import matplotlib.pyplot as plt\n",
    "from sklearn import linear_model\n",
    "from sklearn.model_selection import train_test_split\n",
    "from sklearn.metrics import mean_squared_error, r2_score\n",
    "import seaborn as sns\n",
    "%matplotlib inline"
   ]
  },
  {
   "cell_type": "code",
   "execution_count": 36,
   "id": "generous-serial",
   "metadata": {},
   "outputs": [
    {
     "name": "stdout",
     "output_type": "stream",
     "text": [
      "(888, 24)\n"
     ]
    }
   ],
   "source": [
    "x = np.load('X_v2.npy')\n",
    "x = x.reshape(x.shape[0],-1)\n",
    "print(x.shape)\n",
    "y = np.load('Y_v2.npy')"
   ]
  },
  {
   "cell_type": "code",
   "execution_count": 37,
   "id": "roman-interview",
   "metadata": {},
   "outputs": [
    {
     "name": "stdout",
     "output_type": "stream",
     "text": [
      "(666, 24)\n",
      "(222, 24)\n",
      "(666, 1)\n",
      "(222, 1)\n"
     ]
    }
   ],
   "source": [
    "\n",
    "x_train, x_test, y_train, y_test = train_test_split(x,y,random_state=None)\n",
    "# check output shape\n",
    "print(x_train.shape)\n",
    "print(x_test.shape)\n",
    "print(y_train.shape)\n",
    "print(y_test.shape)"
   ]
  },
  {
   "cell_type": "code",
   "execution_count": 38,
   "id": "dramatic-vietnamese",
   "metadata": {},
   "outputs": [],
   "source": [
    "# Create linear regression object\n",
    "regr = linear_model.LinearRegression()\n",
    "\n",
    "# Train the model using the training sets\n",
    "regr.fit(x_train, y_train)\n",
    "\n",
    "# Make predictions using the testing set\n",
    "y_pred = regr.predict(x_test)"
   ]
  },
  {
   "cell_type": "code",
   "execution_count": 39,
   "id": "binding-robin",
   "metadata": {},
   "outputs": [
    {
     "name": "stdout",
     "output_type": "stream",
     "text": [
      "Coefficients: \n",
      " [[-1.12446530e-04  1.52690314e-01 -1.49632086e-01  8.37344048e+00\n",
      "  -3.40418323e-04 -3.88214979e-02  1.09525897e-01 -1.10967134e+01\n",
      "  -1.10455675e-04 -5.51122531e-02 -5.16962050e-03  1.66880010e+00\n",
      "   4.18343840e-04  1.62144523e-01 -1.48143094e-01  8.75979977e+00\n",
      "   4.66424687e-04 -6.32995128e-02  8.35565178e-03 -1.06109127e+01\n",
      "   5.66943301e-04 -1.41427335e-01  1.56400414e-01  5.15312987e+00]]\n",
      "Mean squared error: 0.18\n",
      "Coefficient of determination: 0.72\n"
     ]
    }
   ],
   "source": [
    "# The coefficients\n",
    "print('Coefficients: \\n', regr.coef_)\n",
    "# The mean squared error\n",
    "print('Mean squared error: %.2f'\n",
    "      % mean_squared_error(y_test, y_pred))\n",
    "# The coefficient of determination: 1 is perfect prediction\n",
    "print('Coefficient of determination: %.2f'\n",
    "      % r2_score(y_test, y_pred))"
   ]
  },
  {
   "cell_type": "code",
   "execution_count": 46,
   "id": "solid-conjunction",
   "metadata": {},
   "outputs": [
    {
     "data": {
      "image/png": "[encoded data removed]",
      "text/plain": [
       "<Figure size 432x288 with 1 Axes>"
      ]
     },
     "metadata": {},
     "output_type": "display_data"
    }
   ],
   "source": [
    "# Plot outputs\n",
    "var = 3\n",
    "plt.scatter(x_test[:,var], y_test,  color='black')\n",
    "plt.scatter(x_test[:,var], y_pred, color='blue', linewidth=3)\n",
    "\n",
    "plt.xticks(())\n",
    "plt.yticks(())\n",
    "\n",
    "plt.show()"
   ]
  },
  {
   "cell_type": "code",
   "execution_count": null,
   "id": "global-fitness",
   "metadata": {},
   "outputs": [],
   "source": []
  }
 ],
 "metadata": {
  "kernelspec": {
   "display_name": "Python 3",
   "language": "python",
   "name": "python3"
  },
  "language_info": {
   "codemirror_mode": {
    "name": "ipython",
    "version": 3
   },
   "file_extension": ".py",
   "mimetype": "text/x-python",
   "name": "python",
   "nbconvert_exporter": "python",
   "pygments_lexer": "ipython3",
   "version": "3.6.9"
  }
 },
 "nbformat": 4,
 "nbformat_minor": 5
}
