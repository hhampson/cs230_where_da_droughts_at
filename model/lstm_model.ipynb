{
 "cells": [
  {
   "cell_type": "code",
   "execution_count": 12,
   "id": "front-alias",
   "metadata": {},
   "outputs": [],
   "source": [
    "## import packages\n",
    "import torch\n",
    "import torch.nn as nn\n",
    "from torch.utils.data import Dataset, DataLoader\n",
    "from tqdm.notebook import tqdm, trange\n",
    "import seaborn as sns\n",
    "import numpy as np\n",
    "import pandas as pd\n",
    "import matplotlib.pyplot as plt\n",
    "%matplotlib inline"
   ]
  },
  {
   "cell_type": "code",
   "execution_count": 13,
   "id": "brave-providence",
   "metadata": {},
   "outputs": [],
   "source": [
    "## hyperparameters\n",
    "batch_size = 2\n",
    "hidden_layers = 32\n",
    "learning_rate = 0.001\n",
    "epochs = 200\n",
    "\n",
    "# MSE Loss\n",
    "# Adam Optimizer"
   ]
  },
  {
   "cell_type": "code",
   "execution_count": 3,
   "id": "sufficient-enclosure",
   "metadata": {},
   "outputs": [],
   "source": [
    "## create dataset\n",
    "class DroughtDataset(Dataset):\n",
    "    \"\"\" Drought dataset.\"\"\"\n",
    "\n",
    "    def __init__(self, np_array_x, np_array_y):\n",
    "        \"\"\"\n",
    "        Args:\n",
    "            np_array_x (string): Path to the npy file with annotations.\n",
    "            np_array_y (string): Path to the npy file with annotations.\n",
    "        \"\"\"\n",
    "        self.X = np.load(np_array_x)\n",
    "        self.Y = np.load(np_array_y)\n",
    "\n",
    "    def __len__(self):\n",
    "        return len(self.X)\n",
    "\n",
    "    def __getitem__(self, idx):\n",
    "        return self.X[idx], self.Y[idx][0]"
   ]
  },
  {
   "cell_type": "code",
   "execution_count": 4,
   "id": "floating-technical",
   "metadata": {
    "scrolled": true
   },
   "outputs": [],
   "source": [
    "## loading training data\n",
    "drought_dataset = DroughtDataset('x_train_v3.npy', 'y_train_v3.npy')\n",
    "\n",
    "for i in range(len(drought_dataset)):\n",
    "    sample = drought_dataset[i]\n",
    "    # sample[0].shape = (6,4)"
   ]
  },
  {
   "cell_type": "code",
   "execution_count": 14,
   "id": "fiscal-simple",
   "metadata": {},
   "outputs": [],
   "source": [
    "## call dataloader\n",
    "dataloader = DataLoader(drought_dataset, batch_size=batch_size, shuffle=True, num_workers=0)\n",
    "# batch,seq,input_var"
   ]
  },
  {
   "cell_type": "code",
   "execution_count": 15,
   "id": "commercial-progressive",
   "metadata": {},
   "outputs": [],
   "source": [
    "## create LSTM model\n",
    "class LSTM(nn.Module):\n",
    "    def __init__(self, input_size=4, hidden_layer_size=hidden_layers, output_size=1):\n",
    "        super().__init__()\n",
    "        self.hidden_layer_size = hidden_layer_size\n",
    "\n",
    "        self.lstm = nn.LSTM(input_size, hidden_layer_size,batch_first=True)\n",
    "\n",
    "        self.linear = nn.Linear(hidden_layer_size, output_size)\n",
    "\n",
    "        self.hidden_cell = (torch.zeros(1,1,self.hidden_layer_size),\n",
    "                            torch.zeros(1,1,self.hidden_layer_size))\n",
    "\n",
    "    def forward(self, input_seq):\n",
    "        lstm_out, hidden_cell = self.lstm(input_seq)#, self.hidden_cell.cuda())\n",
    "        predictions = self.linear(lstm_out[:, -1])\n",
    "        return predictions.squeeze(1)"
   ]
  },
  {
   "cell_type": "code",
   "execution_count": 16,
   "id": "sealed-steal",
   "metadata": {},
   "outputs": [],
   "source": [
    "## cross entropy loss and optimizer\n",
    "model = LSTM()\n",
    "model = model\n",
    "loss_function = nn.MSELoss()\n",
    "optimizer = torch.optim.Adam(model.parameters(), lr=learning_rate)"
   ]
  },
  {
   "cell_type": "code",
   "execution_count": 17,
   "id": "convinced-relation",
   "metadata": {
    "scrolled": true
   },
   "outputs": [
    {
     "data": {
      "application/vnd.jupyter.widget-view+json": {
       "model_id": "37cc9f943d4d4c21a84fee6cefbeeb3a",
       "version_major": 2,
       "version_minor": 0
      },
      "text/plain": [
       "  0%|          | 0/200 [00:00<?, ?it/s]"
      ]
     },
     "metadata": {},
     "output_type": "display_data"
    },
    {
     "name": "stdout",
     "output_type": "stream",
     "text": [
      "epoch:   1 loss: 0.50714748\n",
      "epoch:   6 loss: 0.20163165\n",
      "epoch:  11 loss: 0.13070355\n",
      "epoch:  16 loss: 0.10242990\n",
      "epoch:  21 loss: 0.08808498\n",
      "epoch:  26 loss: 0.07741889\n",
      "epoch:  31 loss: 0.06786527\n",
      "epoch:  36 loss: 0.06779553\n",
      "epoch:  41 loss: 0.06179125\n",
      "epoch:  46 loss: 0.06184405\n",
      "epoch:  51 loss: 0.05151380\n",
      "epoch:  56 loss: 0.04651402\n",
      "epoch:  61 loss: 0.03939022\n",
      "epoch:  66 loss: 0.04126398\n",
      "epoch:  71 loss: 0.03658392\n",
      "epoch:  76 loss: 0.03336102\n",
      "epoch:  81 loss: 0.03249160\n",
      "epoch:  86 loss: 0.03276927\n",
      "epoch:  91 loss: 0.02753045\n",
      "epoch:  96 loss: 0.02805173\n",
      "epoch: 101 loss: 0.02477361\n",
      "epoch: 106 loss: 0.02322662\n",
      "epoch: 111 loss: 0.02436412\n",
      "epoch: 116 loss: 0.01815225\n",
      "epoch: 121 loss: 0.01997930\n",
      "epoch: 126 loss: 0.02108122\n",
      "epoch: 131 loss: 0.01879013\n",
      "epoch: 136 loss: 0.01586138\n",
      "epoch: 141 loss: 0.01492899\n",
      "epoch: 146 loss: 0.01595815\n",
      "epoch: 151 loss: 0.01406856\n",
      "epoch: 156 loss: 0.01481843\n",
      "epoch: 161 loss: 0.01424747\n",
      "epoch: 166 loss: 0.01533610\n",
      "epoch: 171 loss: 0.01270113\n",
      "epoch: 176 loss: 0.01380131\n",
      "epoch: 181 loss: 0.01021075\n",
      "epoch: 186 loss: 0.01086809\n",
      "epoch: 191 loss: 0.01105753\n",
      "epoch: 196 loss: 0.01002829\n",
      "epoch: 199 loss: 0.0266100392\n"
     ]
    }
   ],
   "source": [
    "## training the model\n",
    "for i in trange(epochs):\n",
    "    sum_loss = 0\n",
    "    for batch in dataloader:\n",
    "        seq, labels = batch\n",
    "        seq, labels = seq.float(), labels.float()\n",
    "        optimizer.zero_grad()\n",
    "        #model.hidden_cell = (torch.zeros(1, 1, model.hidden_layer_size),\n",
    "        #                torch.zeros(1, 1, model.hidden_layer_size))\n",
    "        y_pred = model(seq)\n",
    "        single_loss = loss_function(y_pred, labels)\n",
    "        \n",
    "        single_loss.backward()\n",
    "        optimizer.step()\n",
    "        sum_loss += single_loss\n",
    "        \n",
    "    if i%5 == 1:\n",
    "        print(f'epoch: {i:3} loss: {sum_loss.cpu().item()/len(dataloader):10.8f}')\n",
    "\n",
    "print(f'epoch: {i:3} loss: {single_loss.cpu().item():10.10f}')"
   ]
  },
  {
   "cell_type": "code",
   "execution_count": 18,
   "id": "built-staff",
   "metadata": {},
   "outputs": [],
   "source": [
    "## loading testing data\n",
    "drought_dataset_test = DroughtDataset('x_test_v3.npy', 'y_test_v3.npy')\n",
    "\n",
    "test_size = len(drought_dataset_test)\n",
    "\n",
    "for i in range(len(drought_dataset_test)):\n",
    "    sample = drought_dataset[i]\n",
    "    # sample[0] is the x test\n",
    "    # sample[1] is the y test"
   ]
  },
  {
   "cell_type": "code",
   "execution_count": 22,
   "id": "suburban-burning",
   "metadata": {},
   "outputs": [
    {
     "name": "stdout",
     "output_type": "stream",
     "text": [
      "(222, 6, 4)\n",
      "(222, 1)\n"
     ]
    }
   ],
   "source": [
    "## making predictions\n",
    "print(drought_dataset_test.X.shape)\n",
    "test_inputs = drought_dataset_test.X[-(test_size-1):].tolist()\n",
    "\n",
    "model.eval()\n",
    "\n",
    "for i in range(test_size):\n",
    "    inputs = torch.FloatTensor(drought_dataset_test.X)\n",
    "    with torch.no_grad():\n",
    "        model.hidden = (torch.zeros(1, 1, model.hidden_layer_size),\n",
    "                        torch.zeros(1, 1, model.hidden_layer_size))\n",
    "        out_data = model(inputs)\n",
    "\n",
    "predicted_y = np.reshape(out_data.numpy(), (out_data.numpy().shape[0], 1))\n",
    "actual_y = drought_dataset_test.Y\n",
    "print(predicted_y.shape)"
   ]
  },
  {
   "cell_type": "code",
   "execution_count": 23,
   "id": "meaning-scroll",
   "metadata": {},
   "outputs": [
    {
     "name": "stdout",
     "output_type": "stream",
     "text": [
      "0.0842207040873064\n"
     ]
    }
   ],
   "source": [
    "test_error = np.mean(np.square((predicted_y-actual_y)))\n",
    "print(test_error)"
   ]
  },
  {
   "cell_type": "code",
   "execution_count": 30,
   "id": "patient-venezuela",
   "metadata": {},
   "outputs": [
    {
     "data": {
      "image/png": "[encoded data removed]",
      "text/plain": [
       "<Figure size 432x288 with 1 Axes>"
      ]
     },
     "metadata": {},
     "output_type": "display_data"
    }
   ],
   "source": [
    "var =  3\n",
    "plt.scatter(drought_dataset_test.X[:,-1,var], actual_y,  color='black')\n",
    "plt.scatter(drought_dataset_test.X[:,-1,var], predicted_y, color='blue', linewidth=3)\n",
    "\n",
    "plt.xticks(())\n",
    "plt.yticks(())\n",
    "\n",
    "plt.show()"
   ]
  },
  {
   "cell_type": "code",
   "execution_count": null,
   "id": "blind-gender",
   "metadata": {},
   "outputs": [],
   "source": []
  }
 ],
 "metadata": {
  "kernelspec": {
   "display_name": "Python 3",
   "language": "python",
   "name": "python3"
  },
  "language_info": {
   "codemirror_mode": {
    "name": "ipython",
    "version": 3
   },
   "file_extension": ".py",
   "mimetype": "text/x-python",
   "name": "python",
   "nbconvert_exporter": "python",
   "pygments_lexer": "ipython3",
   "version": "3.6.9"
  }
 },
 "nbformat": 4,
 "nbformat_minor": 5
}
