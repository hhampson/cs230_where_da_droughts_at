{
 "cells": [
  {
   "cell_type": "code",
   "execution_count": 1,
   "id": "collaborative-evans",
   "metadata": {},
   "outputs": [],
   "source": [
    "## import packages\n",
    "import numpy as np\n",
    "from sklearn import preprocessing\n",
    "import matplotlib.pyplot as plt\n",
    "from sklearn import linear_model\n",
    "from sklearn.model_selection import train_test_split\n",
    "from sklearn.metrics import mean_squared_error, r2_score\n",
    "import seaborn as sns\n",
    "%matplotlib inline"
   ]
  },
  {
   "cell_type": "code",
   "execution_count": 2,
   "id": "formal-marks",
   "metadata": {},
   "outputs": [
    {
     "name": "stdout",
     "output_type": "stream",
     "text": [
      "(888, 24)\n"
     ]
    }
   ],
   "source": [
    "## load dataset\n",
    "x = np.load('X_v3.npy')\n",
    "x = x.reshape(x.shape[0],-1)\n",
    "print(x.shape)\n",
    "y = np.load('Y_v3.npy')"
   ]
  },
  {
   "cell_type": "code",
   "execution_count": 3,
   "id": "brave-cement",
   "metadata": {},
   "outputs": [
    {
     "name": "stdout",
     "output_type": "stream",
     "text": [
      "(666, 24)\n",
      "(222, 24)\n",
      "(666, 1)\n",
      "(222, 1)\n"
     ]
    }
   ],
   "source": [
    "## split dataset\n",
    "x_train, x_test, y_train, y_test = train_test_split(x,y,random_state=True, shuffle=True)\n",
    "\n",
    "# check output shape\n",
    "print(x_train.shape)\n",
    "print(x_test.shape)\n",
    "print(y_train.shape)\n",
    "print(y_test.shape)"
   ]
  },
  {
   "cell_type": "code",
   "execution_count": 6,
   "id": "contrary-parts",
   "metadata": {},
   "outputs": [],
   "source": [
    "# create linear regression object\n",
    "regr = linear_model.LinearRegression()\n",
    "\n",
    "# train the model using the training sets\n",
    "regr.fit(x_train, y_train)\n",
    "\n",
    "# make predictions using the testing set\n",
    "y_pred = regr.predict(x_test)"
   ]
  },
  {
   "cell_type": "code",
   "execution_count": 7,
   "id": "infinite-reform",
   "metadata": {},
   "outputs": [
    {
     "name": "stdout",
     "output_type": "stream",
     "text": [
      "Coefficients: \n",
      " [[ 8.40494803e-02  1.70196461e-01 -1.48117763e-01  9.75736546e+00\n",
      "  -2.67755500e-02 -1.49353452e-02  9.78197469e-02 -1.22893946e+01\n",
      "  -1.39041306e-01 -2.37796097e-02 -3.25562547e-02  3.54159304e+00\n",
      "   2.26863228e-01  1.19980999e-01 -1.30239771e-01  5.90667234e+00\n",
      "  -6.64239687e-02 -8.67376651e-02  3.63973757e-03 -9.22567556e+00\n",
      "   8.73430743e-02 -1.39260223e-01  1.57380057e-01  5.02971486e+00]]\n",
      "Mean squared error: 0.15\n",
      "Coefficient of determination: 0.77\n"
     ]
    }
   ],
   "source": [
    "# print coefficients\n",
    "print('Coefficients: \\n', regr.coef_)\n",
    "# print mean squared error\n",
    "print('Mean squared error: %.2f'\n",
    "      % mean_squared_error(y_test, y_pred))\n",
    "# print coefficient of determination: 1 is perfect prediction\n",
    "print('Coefficient of determination: %.2f'\n",
    "      % r2_score(y_test, y_pred))"
   ]
  },
  {
   "cell_type": "code",
   "execution_count": 10,
   "id": "bright-envelope",
   "metadata": {},
   "outputs": [
    {
     "data": {
      "image/png": "[encoded data removed]",
      "text/plain": [
       "<Figure size 432x288 with 1 Axes>"
      ]
     },
     "metadata": {},
     "output_type": "display_data"
    }
   ],
   "source": [
    "# plot outputs\n",
    "var =  2\n",
    "plt.scatter(x_test[:,var], y_test,  color='black')\n",
    "plt.scatter(x_test[:,var], y_pred, color='blue', linewidth=3)\n",
    "\n",
    "plt.xticks(())\n",
    "plt.yticks(())\n",
    "\n",
    "plt.show()"
   ]
  },
  {
   "cell_type": "code",
   "execution_count": 11,
   "id": "informational-trigger",
   "metadata": {},
   "outputs": [
    {
     "name": "stdout",
     "output_type": "stream",
     "text": [
      "(888, 6, 4)\n"
     ]
    }
   ],
   "source": [
    "x = np.load('X_v3.npy')\n",
    "print(x.shape)\n",
    "y = np.load('Y_v3.npy')"
   ]
  },
  {
   "cell_type": "code",
   "execution_count": 12,
   "id": "brown-hearing",
   "metadata": {},
   "outputs": [],
   "source": [
    "## split dataset\n",
    "x_train, x_test, y_train, y_test = train_test_split(x,y,random_state=False, shuffle=True)"
   ]
  },
  {
   "cell_type": "code",
   "execution_count": 13,
   "id": "mechanical-shelter",
   "metadata": {},
   "outputs": [],
   "source": [
    "np.save('x_train_v3.npy',x_train)\n",
    "np.save('y_train_v3.npy',y_train)\n",
    "np.save('x_test_v3.npy',x_test)\n",
    "np.save('y_test_v3.npy',y_test)"
   ]
  },
  {
   "cell_type": "code",
   "execution_count": null,
   "id": "bored-moscow",
   "metadata": {},
   "outputs": [],
   "source": []
  }
 ],
 "metadata": {
  "kernelspec": {
   "display_name": "Python 3",
   "language": "python",
   "name": "python3"
  },
  "language_info": {
   "codemirror_mode": {
    "name": "ipython",
    "version": 3
   },
   "file_extension": ".py",
   "mimetype": "text/x-python",
   "name": "python",
   "nbconvert_exporter": "python",
   "pygments_lexer": "ipython3",
   "version": "3.6.9"
  }
 },
 "nbformat": 4,
 "nbformat_minor": 5
}
